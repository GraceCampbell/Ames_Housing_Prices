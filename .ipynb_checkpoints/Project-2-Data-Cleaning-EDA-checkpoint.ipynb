{
 "cells": [
  {
   "cell_type": "markdown",
   "metadata": {},
   "source": [
    "## Notes from Matt:\n",
    "- Where to stop? Is the additional time investment worth it? How much of an improvement vs. how much effort?\n",
    "- Recs:\n",
    "    - Set up a timeline\n",
    "        - assume the final deadline is noon on Thursday"
   ]
  },
  {
   "cell_type": "markdown",
   "metadata": {},
   "source": [
    "### Presentation:\n",
    "- Don't need to have a business framing\n",
    "\n",
    "- What interesting findings did you find with EDA?\n",
    "    - was something more predictive than you thought, or less? etc.\n",
    "    \n",
    "- No code snippets, but can use specific terms like \"ridge regularization\" etc... mid-level technical presentation"
   ]
  },
  {
   "cell_type": "markdown",
   "metadata": {},
   "source": [
    "# Training Data"
   ]
  },
  {
   "cell_type": "code",
   "execution_count": 1635,
   "metadata": {},
   "outputs": [],
   "source": [
    "import pandas as pd\n",
    "import numpy as np\n",
    "import matplotlib.pyplot as plt\n",
    "import seaborn as sns\n",
    "\n",
    "df = pd.read_csv('./datasets/train.csv', keep_default_na=False)"
   ]
  },
  {
   "cell_type": "code",
   "execution_count": 1636,
   "metadata": {
    "scrolled": false
   },
   "outputs": [
    {
     "data": {
      "text/plain": [
       "0"
      ]
     },
     "execution_count": 1636,
     "metadata": {},
     "output_type": "execute_result"
    }
   ],
   "source": [
    "# Checking for nulls\n",
    "df.isnull().sum().sum()"
   ]
  },
  {
   "cell_type": "code",
   "execution_count": 1637,
   "metadata": {},
   "outputs": [
    {
     "data": {
      "text/plain": [
       "(2051, 81)"
      ]
     },
     "execution_count": 1637,
     "metadata": {},
     "output_type": "execute_result"
    }
   ],
   "source": [
    "# Checking the number of rows/columns in the data\n",
    "df.shape"
   ]
  },
  {
   "cell_type": "code",
   "execution_count": 1638,
   "metadata": {
    "scrolled": false
   },
   "outputs": [
    {
     "data": {
      "text/html": [
       "<div>\n",
       "<style scoped>\n",
       "    .dataframe tbody tr th:only-of-type {\n",
       "        vertical-align: middle;\n",
       "    }\n",
       "\n",
       "    .dataframe tbody tr th {\n",
       "        vertical-align: top;\n",
       "    }\n",
       "\n",
       "    .dataframe thead th {\n",
       "        text-align: right;\n",
       "    }\n",
       "</style>\n",
       "<table border=\"1\" class=\"dataframe\">\n",
       "  <thead>\n",
       "    <tr style=\"text-align: right;\">\n",
       "      <th></th>\n",
       "      <th>Id</th>\n",
       "      <th>PID</th>\n",
       "      <th>MS SubClass</th>\n",
       "      <th>MS Zoning</th>\n",
       "      <th>Lot Frontage</th>\n",
       "      <th>Lot Area</th>\n",
       "      <th>Street</th>\n",
       "      <th>Alley</th>\n",
       "      <th>Lot Shape</th>\n",
       "      <th>Land Contour</th>\n",
       "      <th>...</th>\n",
       "      <th>Screen Porch</th>\n",
       "      <th>Pool Area</th>\n",
       "      <th>Pool QC</th>\n",
       "      <th>Fence</th>\n",
       "      <th>Misc Feature</th>\n",
       "      <th>Misc Val</th>\n",
       "      <th>Mo Sold</th>\n",
       "      <th>Yr Sold</th>\n",
       "      <th>Sale Type</th>\n",
       "      <th>SalePrice</th>\n",
       "    </tr>\n",
       "  </thead>\n",
       "  <tbody>\n",
       "    <tr>\n",
       "      <th>0</th>\n",
       "      <td>109</td>\n",
       "      <td>533352170</td>\n",
       "      <td>60</td>\n",
       "      <td>RL</td>\n",
       "      <td></td>\n",
       "      <td>13517</td>\n",
       "      <td>Pave</td>\n",
       "      <td>NA</td>\n",
       "      <td>IR1</td>\n",
       "      <td>Lvl</td>\n",
       "      <td>...</td>\n",
       "      <td>0</td>\n",
       "      <td>0</td>\n",
       "      <td>NA</td>\n",
       "      <td>NA</td>\n",
       "      <td>NA</td>\n",
       "      <td>0</td>\n",
       "      <td>3</td>\n",
       "      <td>2010</td>\n",
       "      <td>WD</td>\n",
       "      <td>130500</td>\n",
       "    </tr>\n",
       "    <tr>\n",
       "      <th>1</th>\n",
       "      <td>544</td>\n",
       "      <td>531379050</td>\n",
       "      <td>60</td>\n",
       "      <td>RL</td>\n",
       "      <td>43</td>\n",
       "      <td>11492</td>\n",
       "      <td>Pave</td>\n",
       "      <td>NA</td>\n",
       "      <td>IR1</td>\n",
       "      <td>Lvl</td>\n",
       "      <td>...</td>\n",
       "      <td>0</td>\n",
       "      <td>0</td>\n",
       "      <td>NA</td>\n",
       "      <td>NA</td>\n",
       "      <td>NA</td>\n",
       "      <td>0</td>\n",
       "      <td>4</td>\n",
       "      <td>2009</td>\n",
       "      <td>WD</td>\n",
       "      <td>220000</td>\n",
       "    </tr>\n",
       "    <tr>\n",
       "      <th>2</th>\n",
       "      <td>153</td>\n",
       "      <td>535304180</td>\n",
       "      <td>20</td>\n",
       "      <td>RL</td>\n",
       "      <td>68</td>\n",
       "      <td>7922</td>\n",
       "      <td>Pave</td>\n",
       "      <td>NA</td>\n",
       "      <td>Reg</td>\n",
       "      <td>Lvl</td>\n",
       "      <td>...</td>\n",
       "      <td>0</td>\n",
       "      <td>0</td>\n",
       "      <td>NA</td>\n",
       "      <td>NA</td>\n",
       "      <td>NA</td>\n",
       "      <td>0</td>\n",
       "      <td>1</td>\n",
       "      <td>2010</td>\n",
       "      <td>WD</td>\n",
       "      <td>109000</td>\n",
       "    </tr>\n",
       "    <tr>\n",
       "      <th>3</th>\n",
       "      <td>318</td>\n",
       "      <td>916386060</td>\n",
       "      <td>60</td>\n",
       "      <td>RL</td>\n",
       "      <td>73</td>\n",
       "      <td>9802</td>\n",
       "      <td>Pave</td>\n",
       "      <td>NA</td>\n",
       "      <td>Reg</td>\n",
       "      <td>Lvl</td>\n",
       "      <td>...</td>\n",
       "      <td>0</td>\n",
       "      <td>0</td>\n",
       "      <td>NA</td>\n",
       "      <td>NA</td>\n",
       "      <td>NA</td>\n",
       "      <td>0</td>\n",
       "      <td>4</td>\n",
       "      <td>2010</td>\n",
       "      <td>WD</td>\n",
       "      <td>174000</td>\n",
       "    </tr>\n",
       "    <tr>\n",
       "      <th>4</th>\n",
       "      <td>255</td>\n",
       "      <td>906425045</td>\n",
       "      <td>50</td>\n",
       "      <td>RL</td>\n",
       "      <td>82</td>\n",
       "      <td>14235</td>\n",
       "      <td>Pave</td>\n",
       "      <td>NA</td>\n",
       "      <td>IR1</td>\n",
       "      <td>Lvl</td>\n",
       "      <td>...</td>\n",
       "      <td>0</td>\n",
       "      <td>0</td>\n",
       "      <td>NA</td>\n",
       "      <td>NA</td>\n",
       "      <td>NA</td>\n",
       "      <td>0</td>\n",
       "      <td>3</td>\n",
       "      <td>2010</td>\n",
       "      <td>WD</td>\n",
       "      <td>138500</td>\n",
       "    </tr>\n",
       "  </tbody>\n",
       "</table>\n",
       "<p>5 rows × 81 columns</p>\n",
       "</div>"
      ],
      "text/plain": [
       "    Id        PID  MS SubClass MS Zoning Lot Frontage  Lot Area Street Alley  \\\n",
       "0  109  533352170           60        RL                  13517   Pave    NA   \n",
       "1  544  531379050           60        RL           43     11492   Pave    NA   \n",
       "2  153  535304180           20        RL           68      7922   Pave    NA   \n",
       "3  318  916386060           60        RL           73      9802   Pave    NA   \n",
       "4  255  906425045           50        RL           82     14235   Pave    NA   \n",
       "\n",
       "  Lot Shape Land Contour  ... Screen Porch Pool Area Pool QC Fence  \\\n",
       "0       IR1          Lvl  ...            0         0      NA    NA   \n",
       "1       IR1          Lvl  ...            0         0      NA    NA   \n",
       "2       Reg          Lvl  ...            0         0      NA    NA   \n",
       "3       Reg          Lvl  ...            0         0      NA    NA   \n",
       "4       IR1          Lvl  ...            0         0      NA    NA   \n",
       "\n",
       "  Misc Feature Misc Val Mo Sold Yr Sold  Sale Type  SalePrice  \n",
       "0           NA        0       3    2010        WD      130500  \n",
       "1           NA        0       4    2009        WD      220000  \n",
       "2           NA        0       1    2010        WD      109000  \n",
       "3           NA        0       4    2010        WD      174000  \n",
       "4           NA        0       3    2010        WD      138500  \n",
       "\n",
       "[5 rows x 81 columns]"
      ]
     },
     "execution_count": 1638,
     "metadata": {},
     "output_type": "execute_result"
    }
   ],
   "source": [
    "# Looking at the first five rows of the data\n",
    "df.head()"
   ]
  },
  {
   "cell_type": "code",
   "execution_count": 1639,
   "metadata": {},
   "outputs": [
    {
     "data": {
      "image/png": "[encoded data removed]",
      "text/plain": [
       "<Figure size 720x360 with 1 Axes>"
      ]
     },
     "metadata": {},
     "output_type": "display_data"
    }
   ],
   "source": [
    "# Plotting the distribution of the target variable 'SalePrice'\n",
    "plt.style.use('seaborn')\n",
    "\n",
    "df['SalePrice'].plot(kind='hist', bins=20, figsize=(10, 5));"
   ]
  },
  {
   "cell_type": "markdown",
   "metadata": {},
   "source": [
    "The distribution of our target variable has a positive skew."
   ]
  },
  {
   "cell_type": "markdown",
   "metadata": {},
   "source": [
    "### Changing Data Types"
   ]
  },
  {
   "cell_type": "code",
   "execution_count": 1640,
   "metadata": {
    "scrolled": true
   },
   "outputs": [
    {
     "data": {
      "text/plain": [
       "object    53\n",
       "int64     28\n",
       "dtype: int64"
      ]
     },
     "execution_count": 1640,
     "metadata": {},
     "output_type": "execute_result"
    }
   ],
   "source": [
    "# Looking at column data type totals\n",
    "df.dtypes.value_counts()"
   ]
  },
  {
   "cell_type": "markdown",
   "metadata": {},
   "source": [
    "Some of the columns have numeric data but are listed as object columns, most likely because the numbers are actually casted as strings. Let's find out what columns those are and change the values to integers."
   ]
  },
  {
   "cell_type": "code",
   "execution_count": 1641,
   "metadata": {},
   "outputs": [],
   "source": [
    "# Checking for numeric strings inside the object-type columns, and putting those columns in a list\n",
    "numeric_object_cols = []\n",
    "\n",
    "for col in df.select_dtypes(include=object).columns:\n",
    "    if df[col].str.isnumeric().any() == True:\n",
    "        numeric_object_cols.append(col)"
   ]
  },
  {
   "cell_type": "code",
   "execution_count": 1642,
   "metadata": {
    "scrolled": false
   },
   "outputs": [
    {
     "data": {
      "text/plain": [
       "Lot Frontage      int64\n",
       "Mas Vnr Area      int64\n",
       "BsmtFin SF 1      int64\n",
       "BsmtFin SF 2      int64\n",
       "Bsmt Unf SF       int64\n",
       "Total Bsmt SF     int64\n",
       "Bsmt Full Bath    int64\n",
       "Bsmt Half Bath    int64\n",
       "Garage Yr Blt     int64\n",
       "Garage Cars       int64\n",
       "Garage Area       int64\n",
       "dtype: object"
      ]
     },
     "execution_count": 1642,
     "metadata": {},
     "output_type": "execute_result"
    }
   ],
   "source": [
    "# Defining a function to cast these columns to int\n",
    "def to_integer(col_list, df):\n",
    "    for col in col_list:\n",
    "        df[col] = df[col].map(lambda x: int(x) if x.isdigit() else 0)\n",
    "\n",
    "# Calling the function\n",
    "to_integer(numeric_object_cols, df)\n",
    "\n",
    "# Confirming it worked\n",
    "df[numeric_object_cols].dtypes"
   ]
  },
  {
   "cell_type": "markdown",
   "metadata": {},
   "source": [
    "### Handling Ordinal Variables"
   ]
  },
  {
   "attachments": {},
   "cell_type": "markdown",
   "metadata": {},
   "source": [
    "Many of these non-numeric object columns actually have ordinal values that are the same across columns, most commonly:\n",
    "\n",
    "\n",
    "       Ex\tExcellent\n",
    "       Gd\tGood\n",
    "       TA\tTypical/Average\n",
    "       Fa\tFair\n",
    "       Po\tPoor\n",
    "       \n",
    "or some variation on that theme. Since these values have an inherent order ascribed to them, I want to map each \"quality\" value to a number. I will also map 'NA' (meaning that feature does not exist on the property) to 0.\n",
    "\n",
    "For each variable in the data set which the data dictionary describes as \"Ordinal,\" I am going to create a dictionary that maps ordinal values to their corresponding numeric values."
   ]
  },
  {
   "cell_type": "code",
   "execution_count": 1643,
   "metadata": {},
   "outputs": [
    {
     "data": {
      "text/plain": [
       "dict_values([0, 0, 0, 0, 1, 1, 1, 1, 1, 1, 1, 1, 1, 1, 2, 3, 2, 2, 2, 2, 2, 2, 2, 2, 2, 3, 3, 3, 3, 3, 3, 3, 3, 3, 4, 4, 4, 4, 4, 4, 4, 4, 5, 5, 5, 6])"
      ]
     },
     "execution_count": 1643,
     "metadata": {},
     "output_type": "execute_result"
    }
   ],
   "source": [
    "# Instantiating empty dictionary\n",
    "ordinal_dict = {}\n",
    "\n",
    "# Defining function to map keys to a certain numeric value from 0-6 (determined from data dictionary)\n",
    "def ordinal_nums(keys_list):\n",
    "    i = 0\n",
    "    while i < 7:\n",
    "        for key_list in keys_list:\n",
    "            for key in key_list:\n",
    "                ordinal_dict[key] = i\n",
    "            i += 1\n",
    "\n",
    "# Each list of keys maps to one value\n",
    "keys_list = [['NA', 'N', 'Mix', 'Sal'], ['Unf', 'Sev', 'IR3', 'P', 'ELO', 'MnWw', 'No', 'FuseP', 'Po', 'Y'], \n",
    "             ['LwQ', 'Mod', 'Maj1', 'Maj2', 'IR2', 'NoSeWa', 'GdWo', 'FuseF', 'RFn', 'Mn', 'Fa'],\n",
    "             ['Rec', 'Gtl', 'Mod', 'NoSewr', 'FuseA', 'IR1', 'MnPrv', 'Fin', 'Av', 'TA'],\n",
    "             ['Reg', 'Min1', 'Min2', 'SBrkr', 'BLQ', 'GdPrv', 'AllPub', 'Gd'], ['Ex', 'Typ', 'ALQ'], ['GLQ']]\n",
    "\n",
    "ordinal_nums(keys_list)\n",
    "ordinal_dict.values()"
   ]
  },
  {
   "cell_type": "code",
   "execution_count": 1644,
   "metadata": {
    "scrolled": true
   },
   "outputs": [
    {
     "data": {
      "text/plain": [
       "int64     60\n",
       "object    21\n",
       "dtype: int64"
      ]
     },
     "execution_count": 1644,
     "metadata": {},
     "output_type": "execute_result"
    }
   ],
   "source": [
    "# Putting every ordinal column in a list (found in data dictionary)\n",
    "ordinal_cols = ['Lot Shape', 'Utilities', 'Land Slope', 'Exter Qual', 'Exter Cond', 'Bsmt Qual', 'Bsmt Cond', 'Bsmt Exposure', \n",
    "                'BsmtFin Type 1', 'BsmtFin Type 2', 'Heating QC', 'Electrical', 'Kitchen Qual', 'Functional', 'Fireplace Qu', \n",
    "                'Garage Finish', 'Garage Qual', 'Garage Cond', 'Paved Drive', 'Pool QC', 'Fence']\n",
    "\n",
    "# Mapping the dictionary to the columns\n",
    "for column in ordinal_cols:\n",
    "    df[column] = df[column].map(ordinal_dict).fillna(0)\n",
    "\n",
    "# Changing any remaining floats to ints\n",
    "df.loc[:, df.dtypes == float] = df.loc[:, df.dtypes == float].astype(np.int64)\n",
    "\n",
    "# Checking to make sure it worked\n",
    "df.dtypes.value_counts()"
   ]
  },
  {
   "cell_type": "code",
   "execution_count": 1645,
   "metadata": {},
   "outputs": [],
   "source": [
    "# Saving this new cleaned data as a .csv file\n",
    "df.to_csv('./datasets/train_cleaned.csv')"
   ]
  },
  {
   "cell_type": "markdown",
   "metadata": {},
   "source": [
    "##### Note:\n",
    "\n",
    "- *I will not be dummy-coding the categorical variables in this dataset. After creating dummy variables, running the Lasso regularization model, and seeing which variables were deemed the most predictive (none of which were the dummy variables), I have elected to leave these variables completely out of the model, as they do not have as much predictive power.*"
   ]
  },
  {
   "cell_type": "markdown",
   "metadata": {},
   "source": [
    "# Test Data"
   ]
  },
  {
   "cell_type": "code",
   "execution_count": 1646,
   "metadata": {},
   "outputs": [],
   "source": [
    "df_test = pd.read_csv('./datasets/test.csv', keep_default_na=False)"
   ]
  },
  {
   "cell_type": "code",
   "execution_count": 1647,
   "metadata": {},
   "outputs": [
    {
     "data": {
      "text/html": [
       "<div>\n",
       "<style scoped>\n",
       "    .dataframe tbody tr th:only-of-type {\n",
       "        vertical-align: middle;\n",
       "    }\n",
       "\n",
       "    .dataframe tbody tr th {\n",
       "        vertical-align: top;\n",
       "    }\n",
       "\n",
       "    .dataframe thead th {\n",
       "        text-align: right;\n",
       "    }\n",
       "</style>\n",
       "<table border=\"1\" class=\"dataframe\">\n",
       "  <thead>\n",
       "    <tr style=\"text-align: right;\">\n",
       "      <th></th>\n",
       "      <th>Id</th>\n",
       "      <th>PID</th>\n",
       "      <th>MS SubClass</th>\n",
       "      <th>MS Zoning</th>\n",
       "      <th>Lot Frontage</th>\n",
       "      <th>Lot Area</th>\n",
       "      <th>Street</th>\n",
       "      <th>Alley</th>\n",
       "      <th>Lot Shape</th>\n",
       "      <th>Land Contour</th>\n",
       "      <th>...</th>\n",
       "      <th>3Ssn Porch</th>\n",
       "      <th>Screen Porch</th>\n",
       "      <th>Pool Area</th>\n",
       "      <th>Pool QC</th>\n",
       "      <th>Fence</th>\n",
       "      <th>Misc Feature</th>\n",
       "      <th>Misc Val</th>\n",
       "      <th>Mo Sold</th>\n",
       "      <th>Yr Sold</th>\n",
       "      <th>Sale Type</th>\n",
       "    </tr>\n",
       "  </thead>\n",
       "  <tbody>\n",
       "    <tr>\n",
       "      <th>0</th>\n",
       "      <td>2658</td>\n",
       "      <td>902301120</td>\n",
       "      <td>190</td>\n",
       "      <td>RM</td>\n",
       "      <td>69</td>\n",
       "      <td>9142</td>\n",
       "      <td>Pave</td>\n",
       "      <td>Grvl</td>\n",
       "      <td>Reg</td>\n",
       "      <td>Lvl</td>\n",
       "      <td>...</td>\n",
       "      <td>0</td>\n",
       "      <td>0</td>\n",
       "      <td>0</td>\n",
       "      <td>NA</td>\n",
       "      <td>NA</td>\n",
       "      <td>NA</td>\n",
       "      <td>0</td>\n",
       "      <td>4</td>\n",
       "      <td>2006</td>\n",
       "      <td>WD</td>\n",
       "    </tr>\n",
       "    <tr>\n",
       "      <th>1</th>\n",
       "      <td>2718</td>\n",
       "      <td>905108090</td>\n",
       "      <td>90</td>\n",
       "      <td>RL</td>\n",
       "      <td></td>\n",
       "      <td>9662</td>\n",
       "      <td>Pave</td>\n",
       "      <td>NA</td>\n",
       "      <td>IR1</td>\n",
       "      <td>Lvl</td>\n",
       "      <td>...</td>\n",
       "      <td>0</td>\n",
       "      <td>0</td>\n",
       "      <td>0</td>\n",
       "      <td>NA</td>\n",
       "      <td>NA</td>\n",
       "      <td>NA</td>\n",
       "      <td>0</td>\n",
       "      <td>8</td>\n",
       "      <td>2006</td>\n",
       "      <td>WD</td>\n",
       "    </tr>\n",
       "    <tr>\n",
       "      <th>2</th>\n",
       "      <td>2414</td>\n",
       "      <td>528218130</td>\n",
       "      <td>60</td>\n",
       "      <td>RL</td>\n",
       "      <td>58</td>\n",
       "      <td>17104</td>\n",
       "      <td>Pave</td>\n",
       "      <td>NA</td>\n",
       "      <td>IR1</td>\n",
       "      <td>Lvl</td>\n",
       "      <td>...</td>\n",
       "      <td>0</td>\n",
       "      <td>0</td>\n",
       "      <td>0</td>\n",
       "      <td>NA</td>\n",
       "      <td>NA</td>\n",
       "      <td>NA</td>\n",
       "      <td>0</td>\n",
       "      <td>9</td>\n",
       "      <td>2006</td>\n",
       "      <td>New</td>\n",
       "    </tr>\n",
       "    <tr>\n",
       "      <th>3</th>\n",
       "      <td>1989</td>\n",
       "      <td>902207150</td>\n",
       "      <td>30</td>\n",
       "      <td>RM</td>\n",
       "      <td>60</td>\n",
       "      <td>8520</td>\n",
       "      <td>Pave</td>\n",
       "      <td>NA</td>\n",
       "      <td>Reg</td>\n",
       "      <td>Lvl</td>\n",
       "      <td>...</td>\n",
       "      <td>0</td>\n",
       "      <td>0</td>\n",
       "      <td>0</td>\n",
       "      <td>NA</td>\n",
       "      <td>NA</td>\n",
       "      <td>NA</td>\n",
       "      <td>0</td>\n",
       "      <td>7</td>\n",
       "      <td>2007</td>\n",
       "      <td>WD</td>\n",
       "    </tr>\n",
       "    <tr>\n",
       "      <th>4</th>\n",
       "      <td>625</td>\n",
       "      <td>535105100</td>\n",
       "      <td>20</td>\n",
       "      <td>RL</td>\n",
       "      <td></td>\n",
       "      <td>9500</td>\n",
       "      <td>Pave</td>\n",
       "      <td>NA</td>\n",
       "      <td>IR1</td>\n",
       "      <td>Lvl</td>\n",
       "      <td>...</td>\n",
       "      <td>0</td>\n",
       "      <td>185</td>\n",
       "      <td>0</td>\n",
       "      <td>NA</td>\n",
       "      <td>NA</td>\n",
       "      <td>NA</td>\n",
       "      <td>0</td>\n",
       "      <td>7</td>\n",
       "      <td>2009</td>\n",
       "      <td>WD</td>\n",
       "    </tr>\n",
       "  </tbody>\n",
       "</table>\n",
       "<p>5 rows × 80 columns</p>\n",
       "</div>"
      ],
      "text/plain": [
       "     Id        PID  MS SubClass MS Zoning Lot Frontage  Lot Area Street Alley  \\\n",
       "0  2658  902301120          190        RM           69      9142   Pave  Grvl   \n",
       "1  2718  905108090           90        RL                   9662   Pave    NA   \n",
       "2  2414  528218130           60        RL           58     17104   Pave    NA   \n",
       "3  1989  902207150           30        RM           60      8520   Pave    NA   \n",
       "4   625  535105100           20        RL                   9500   Pave    NA   \n",
       "\n",
       "  Lot Shape Land Contour  ... 3Ssn Porch Screen Porch Pool Area Pool QC Fence  \\\n",
       "0       Reg          Lvl  ...          0            0         0      NA    NA   \n",
       "1       IR1          Lvl  ...          0            0         0      NA    NA   \n",
       "2       IR1          Lvl  ...          0            0         0      NA    NA   \n",
       "3       Reg          Lvl  ...          0            0         0      NA    NA   \n",
       "4       IR1          Lvl  ...          0          185         0      NA    NA   \n",
       "\n",
       "  Misc Feature Misc Val Mo Sold  Yr Sold  Sale Type  \n",
       "0           NA        0       4     2006        WD   \n",
       "1           NA        0       8     2006        WD   \n",
       "2           NA        0       9     2006        New  \n",
       "3           NA        0       7     2007        WD   \n",
       "4           NA        0       7     2009        WD   \n",
       "\n",
       "[5 rows x 80 columns]"
      ]
     },
     "execution_count": 1647,
     "metadata": {},
     "output_type": "execute_result"
    }
   ],
   "source": [
    "df_test.head()"
   ]
  },
  {
   "cell_type": "markdown",
   "metadata": {},
   "source": [
    "In order for my model to also work on the holdout test set, I need to clean the data in the same way as I did the above training set."
   ]
  },
  {
   "cell_type": "code",
   "execution_count": 1648,
   "metadata": {},
   "outputs": [],
   "source": [
    "# Changing numeric object columns to int columns:\n",
    "numeric_object_cols = []\n",
    "\n",
    "for col in df_test.select_dtypes(include=object).columns:\n",
    "    if df_test[col].str.isnumeric().any() == True:\n",
    "        numeric_object_cols.append(col)\n",
    "\n",
    "to_integer(numeric_object_cols, df_test)"
   ]
  },
  {
   "cell_type": "code",
   "execution_count": 1649,
   "metadata": {},
   "outputs": [],
   "source": [
    "# Mapping the ordinal_dict to ordinal columns\n",
    "for column in ordinal_cols:\n",
    "    df_test[column] = df_test[column].map(ordinal_dict).fillna(0)\n",
    "\n",
    "# Changing remaining floats to ints, as above\n",
    "df_test.loc[:, df_test.dtypes == float] = df_test.loc[:, df_test.dtypes == float].astype(np.int64)\n",
    "\n",
    "# Dropping remaining object columns so only numeric columns are left\n",
    "df_test.drop(df_test.select_dtypes(include=object), axis=1, inplace=True)"
   ]
  },
  {
   "cell_type": "code",
   "execution_count": 1650,
   "metadata": {},
   "outputs": [],
   "source": [
    "# Saving cleaned data as a .csv file\n",
    "df_test.to_csv('./datasets/test_cleaned.csv')"
   ]
  }
 ],
 "metadata": {
  "kernelspec": {
   "display_name": "Python 3",
   "language": "python",
   "name": "python3"
  },
  "language_info": {
   "codemirror_mode": {
    "name": "ipython",
    "version": 3
   },
   "file_extension": ".py",
   "mimetype": "text/x-python",
   "name": "python",
   "nbconvert_exporter": "python",
   "pygments_lexer": "ipython3",
   "version": "3.6.5"
  }
 },
 "nbformat": 4,
 "nbformat_minor": 2
}
