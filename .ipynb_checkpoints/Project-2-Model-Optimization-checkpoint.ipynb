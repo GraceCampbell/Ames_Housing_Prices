{
 "cells": [
  {
   "cell_type": "markdown",
   "metadata": {},
   "source": [
    "# Project 2 - Ames Housing Data\n",
    "\n",
    "## Model Optimization\n",
    "\n",
    "*Author: Grace Campbell*\n",
    "\n",
    "> Previous Notebook: [Feature Engineering and Model Selection](Project-2-Feature-Engineering.ipynb)\n",
    "___"
   ]
  },
  {
   "cell_type": "code",
   "execution_count": 44,
   "metadata": {},
   "outputs": [],
   "source": [
    "from sklearn.pipeline import Pipeline\n",
    "from sklearn.model_selection import train_test_split, GridSearchCV\n",
    "from sklearn.linear_model import LassoCV\n",
    "from sklearn.preprocessing import PolynomialFeatures, StandardScaler\n",
    "\n",
    "import pandas as pd\n",
    "import numpy as np\n",
    "import matplotlib.pyplot as plt\n",
    "import seaborn as sns\n",
    "\n",
    "df = pd.read_csv('./datasets/train_cleaned.csv', keep_default_na=False).drop('Unnamed: 0', axis=1)\n",
    "df_test = pd.read_csv('./datasets/test_cleaned.csv', keep_default_na=False).drop(['Unnamed: 0', 'Id', 'PID'], axis=1)"
   ]
  },
  {
   "cell_type": "code",
   "execution_count": 45,
   "metadata": {},
   "outputs": [],
   "source": [
    "# Creating dummy columns for chosen categorical variables\n",
    "df = pd.get_dummies(df, columns=['Neighborhood', 'Exterior 1st', 'Condition 1', 'Foundation', 'Sale Type'], drop_first=True)\n",
    "df_test = pd.get_dummies(df_test, columns=['Neighborhood', 'Exterior 1st', 'Condition 1', 'Foundation', 'Sale Type'], drop_first=True)\n",
    "\n",
    "# Making the datasets only those columns with numeric data\n",
    "df = df._get_numeric_data()\n",
    "df_test = df_test._get_numeric_data()\n",
    "\n",
    "# Making sure both datasets share the same dummy columns\n",
    "train_features = [col for col in df.columns if col in df_test.columns]\n",
    "test_features = [col for col in df_test.columns if col in df.columns]\n",
    "\n",
    "# Defining X and y for training set\n",
    "X = df[[col for col in train_features if col not in ('Misc Val', 'Pool Area', 'Pool QC')]] # <-- see below for explanation\n",
    "y = df['SalePrice']\n",
    "\n",
    "# Log transforming y\n",
    "y_log = np.log(y)\n",
    "\n",
    "# Defining X for test set\n",
    "test_X = df_test[test_features]\n",
    "\n",
    "# Train-test-splitting\n",
    "X_train, X_test, y_train, y_test = train_test_split(X, y_log, random_state=42)"
   ]
  },
  {
   "cell_type": "code",
   "execution_count": 8,
   "metadata": {},
   "outputs": [],
   "source": [
    "# Creating a Pipeline\n",
    "pipe = Pipeline([\n",
    "    ('poly', PolynomialFeatures()),\n",
    "    ('scaler', StandardScaler()),\n",
    "    ('lcv', LassoCV(0.00418)\n",
    "])"
   ]
  },
  {
   "cell_type": "code",
   "execution_count": 16,
   "metadata": {},
   "outputs": [
    {
     "name": "stderr",
     "output_type": "stream",
     "text": [
      "C:\\Users\\gcamp\\Anaconda3\\lib\\site-packages\\sklearn\\linear_model\\coordinate_descent.py:491: ConvergenceWarning: Objective did not converge. You might want to increase the number of iterations. Fitting data with very small alpha may cause precision problems.\n",
      "  ConvergenceWarning)\n"
     ]
    },
    {
     "data": {
      "text/plain": [
       "Pipeline(memory=None,\n",
       "     steps=[('poly', PolynomialFeatures(degree=2, include_bias=True, interaction_only=False)), ('scaler', StandardScaler(copy=True, with_mean=True, with_std=True)), ('lcv', LassoCV(alphas=array([0.0004, 0.0005, ..., 0.0099, 0.01  ]), copy_X=True,\n",
       "    cv=None, eps=0.001, fit_intercept=True, max_iter=1000, n_alphas=100,\n",
       "    n_jobs=1, normalize=False, positive=False, precompute='auto',\n",
       "    random_state=None, selection='cyclic', tol=0.0001, verbose=False))])"
      ]
     },
     "execution_count": 16,
     "metadata": {},
     "output_type": "execute_result"
    }
   ],
   "source": [
    "# Fitting the Pipeline to the training data\n",
    "pipe.fit(X_train, y_train)"
   ]
  },
  {
   "cell_type": "code",
   "execution_count": 17,
   "metadata": {},
   "outputs": [
    {
     "data": {
      "text/plain": [
       "0.8395219941690071"
      ]
     },
     "execution_count": 17,
     "metadata": {},
     "output_type": "execute_result"
    }
   ],
   "source": [
    "# Scoring the model on the test set\n",
    "pipe.score(X_test, y_test)"
   ]
  },
  {
   "cell_type": "markdown",
   "metadata": {},
   "source": [
    "My final model has an $R^2$ score of 0.839, which means about ~84% of the variance in the data can be explained by my model compared to the null model.\n",
    "\n",
    "Now I want to look at the residuals."
   ]
  },
  {
   "cell_type": "code",
   "execution_count": 18,
   "metadata": {},
   "outputs": [],
   "source": [
    "y_pred = pipe.predict(X_test)"
   ]
  },
  {
   "cell_type": "code",
   "execution_count": 43,
   "metadata": {},
   "outputs": [
    {
     "data": {
      "text/plain": [
       "<matplotlib.collections.PathCollection at 0x1ee467f38d0>"
      ]
     },
     "execution_count": 43,
     "metadata": {},
     "output_type": "execute_result"
    },
    {
     "data": {
      "image/png": "[encoded data removed]",
      "text/plain": [
       "<Figure size 432x288 with 1 Axes>"
      ]
     },
     "metadata": {},
     "output_type": "display_data"
    }
   ],
   "source": [
    "plt.scatter(y_test, y_pred);"
   ]
  },
  {
   "cell_type": "markdown",
   "metadata": {},
   "source": [
    "## Saving Predictions for Submission"
   ]
  },
  {
   "cell_type": "code",
   "execution_count": 38,
   "metadata": {},
   "outputs": [],
   "source": [
    "from datetime import datetime"
   ]
  },
  {
   "cell_type": "code",
   "execution_count": 37,
   "metadata": {},
   "outputs": [],
   "source": [
    "test_preds = pipe.predict(test_X)"
   ]
  },
  {
   "cell_type": "code",
   "execution_count": 41,
   "metadata": {},
   "outputs": [],
   "source": [
    "timestamp = str(datetime.now()).split(':')[0]\n",
    "\n",
    "df_test = pd.read_csv('./datasets/test_cleaned.csv')\n",
    "to_submit = pd.DataFrame({'Id': df_test['Id'], 'SalePrice': test_preds})\n",
    "to_submit.to_csv(f'my_submission_{timestamp}.csv', index=False)"
   ]
  }
 ],
 "metadata": {
  "kernelspec": {
   "display_name": "Python 3",
   "language": "python",
   "name": "python3"
  },
  "language_info": {
   "codemirror_mode": {
    "name": "ipython",
    "version": 3
   },
   "file_extension": ".py",
   "mimetype": "text/x-python",
   "name": "python",
   "nbconvert_exporter": "python",
   "pygments_lexer": "ipython3",
   "version": "3.6.5"
  }
 },
 "nbformat": 4,
 "nbformat_minor": 2
}
