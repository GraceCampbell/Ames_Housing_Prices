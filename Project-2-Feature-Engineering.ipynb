{
 "cells": [
  {
   "cell_type": "markdown",
   "metadata": {},
   "source": [
    "# Project 2 - Ames Housing Data\n",
    "\n",
    "## Feature Engineering and Model Selection\n",
    "\n",
    "*Author: Grace Campbell*\n",
    "\n",
    "\n",
    "> - Previous Notebook: [Data Cleaning and Exploratory Data Analysis](Project-2-Data-Cleaning-EDA.ipynb)\n",
    "- Next Notebook: [Model Optimization](Project-2-Model-Optimization.ipynb)\n",
    "\n",
    "___"
   ]
  },
  {
   "cell_type": "markdown",
   "metadata": {},
   "source": [
    "In this notebook I will be selecting feature variables to use in my final model with `LassoCV`.\n",
    "\n",
    "I want to use all features in the dataset, perform a Lasso regularization on the data, and look at which variables the Lasso chose to keep in the model as being the most predictive. After engineering and choosing my feature variables, I will continue on to my final model."
   ]
  },
  {
   "cell_type": "code",
   "execution_count": 154,
   "metadata": {},
   "outputs": [],
   "source": [
    "from sklearn.pipeline import Pipeline\n",
    "from sklearn.model_selection import train_test_split\n",
    "from sklearn.linear_model import LassoCV\n",
    "from sklearn.preprocessing import PolynomialFeatures, StandardScaler\n",
    "\n",
    "import pandas as pd\n",
    "import numpy as np\n",
    "import warnings\n",
    "\n",
    "warnings.simplefilter(action='ignore', category=FutureWarning)\n",
    "\n",
    "df = pd.read_csv('./datasets/train_cleaned.csv', keep_default_na=False).drop('Unnamed: 0', axis=1)\n",
    "df_test = pd.read_csv('./datasets/test_cleaned.csv', keep_default_na=False).drop(['Unnamed: 0', 'Id', 'PID'], axis=1)"
   ]
  },
  {
   "cell_type": "markdown",
   "metadata": {},
   "source": [
    "I want to use Lasso regularization for this model because there are 81 features, not including dummy columns or feature transformations. I want to bring some of the coefficients for these variables down to 0 if they do not have much predictive value.\n",
    "\n",
    "#### Steps:\n",
    "1. Perform a log transformation on `y` because its distribution is positively skewed\n",
    "2. One-hot encode the categorical variables in the dataset so they can be included in the model\n",
    "3. Transform all explanatory variables with `PolynomialFeatures` to better capture the the explanatory variables' relationships with the target and with each other\n",
    "4. Scale the variables with `StandardScaler` \n",
    "5. Fit the data to a `Lasso` regularization"
   ]
  },
  {
   "cell_type": "code",
   "execution_count": 109,
   "metadata": {},
   "outputs": [],
   "source": [
    "# Creating dummies for both datasets\n",
    "df = pd.get_dummies(df, drop_first=True)\n",
    "df_test = pd.get_dummies(df_test, drop_first=True)\n",
    "\n",
    "# Making sure both datasets share the same dummy columns\n",
    "train_features = [col for col in df.columns if col in df_test.columns]\n",
    "test_features = [col for col in df_test.columns if col in df.columns]\n",
    "\n",
    "# Defining X and y for training set\n",
    "X = df[[col for col in train_features if col not in ('Misc Val', 'Pool Area', 'Pool QC')]] # <-- see below for explanation\n",
    "y = df['SalePrice']\n",
    "\n",
    "# Log transforming y\n",
    "y_log = np.log(y)\n",
    "\n",
    "# Defining X for test set\n",
    "test_X = df_test[test_features]\n",
    "\n",
    "# Train-test-splitting\n",
    "X_train, X_test, y_train, y_test = train_test_split(X, y_log, random_state=42)\n",
    "\n",
    "# Creating a pipeline \n",
    "pipe = Pipeline([\n",
    "    ('poly', PolynomialFeatures()),\n",
    "    ('scaler', StandardScaler()),\n",
    "    ('lcv', LassoCV(alphas=0.0023636363))\n",
    "])"
   ]
  },
  {
   "cell_type": "markdown",
   "metadata": {},
   "source": [
    "> **Note**:\n",
    "I ran this model with all columns in the beginning, and two of the highest (negative) coefficients were interactions with `Misc Val` and `Pool Area`, both of which have high proportions of values that equal 0 in the dataframe. I looked at the proportions of 0-values in both columns, which were almost 100% each. This means that when an interaction term is made with one of these columns, almost all of the values will also be 0, regardless of what the values are for the other variable of the interaction term. Therefore, I removed these columns, along with `Pool QC` (the proportion of 0s is exactly the same as in `Pool Area`), in my matrix of features."
   ]
  },
  {
   "cell_type": "code",
   "execution_count": 156,
   "metadata": {},
   "outputs": [
    {
     "data": {
      "text/plain": [
       "0.0023636363636363638"
      ]
     },
     "execution_count": 156,
     "metadata": {},
     "output_type": "execute_result"
    }
   ],
   "source": [
    "pipe.named_steps['lcv'].alpha_"
   ]
  },
  {
   "cell_type": "code",
   "execution_count": 110,
   "metadata": {},
   "outputs": [
    {
     "data": {
      "text/plain": [
       "Pipeline(memory=None,\n",
       "     steps=[('poly', PolynomialFeatures(degree=2, include_bias=True, interaction_only=False)), ('scaler', StandardScaler(copy=True, with_mean=True, with_std=True)), ('lcv', LassoCV(alphas=array([0.0005 , 0.00055, ..., 0.00495, 0.005  ]), copy_X=True,\n",
       "    cv=None, eps=0.001, fit_intercept=True, max_iter=1000, n_alphas=100,\n",
       "    n_jobs=1, normalize=False, positive=False, precompute='auto',\n",
       "    random_state=None, selection='cyclic', tol=0.0001, verbose=False))])"
      ]
     },
     "execution_count": 110,
     "metadata": {},
     "output_type": "execute_result"
    }
   ],
   "source": [
    "# Fitting the model\n",
    "pipe.fit(X_train, y_train)"
   ]
  },
  {
   "cell_type": "code",
   "execution_count": 146,
   "metadata": {
    "scrolled": true
   },
   "outputs": [
    {
     "data": {
      "text/plain": [
       "0.8207500403055616"
      ]
     },
     "execution_count": 146,
     "metadata": {},
     "output_type": "execute_result"
    }
   ],
   "source": [
    "# Scoring the model\n",
    "pipe.score(X_test, y_test)"
   ]
  },
  {
   "cell_type": "markdown",
   "metadata": {},
   "source": [
    "This model has an $R^2$ score of 0.82, which means that ~82% of variation in the data can be explained by this model compared to the null model.\n",
    "\n",
    "Now I will look at the top 30 coefficients that the Lasso deemed the most predictive:"
   ]
  },
  {
   "cell_type": "code",
   "execution_count": 155,
   "metadata": {
    "scrolled": false
   },
   "outputs": [
    {
     "data": {
      "text/html": [
       "<div>\n",
       "<style scoped>\n",
       "    .dataframe tbody tr th:only-of-type {\n",
       "        vertical-align: middle;\n",
       "    }\n",
       "\n",
       "    .dataframe tbody tr th {\n",
       "        vertical-align: top;\n",
       "    }\n",
       "\n",
       "    .dataframe thead th {\n",
       "        text-align: right;\n",
       "    }\n",
       "</style>\n",
       "<table border=\"1\" class=\"dataframe\">\n",
       "  <thead>\n",
       "    <tr style=\"text-align: right;\">\n",
       "      <th></th>\n",
       "      <th>Coefficient</th>\n",
       "      <th>Value</th>\n",
       "    </tr>\n",
       "  </thead>\n",
       "  <tbody>\n",
       "    <tr>\n",
       "      <th>1416</th>\n",
       "      <td>Overall Cond Gr Liv Area</td>\n",
       "      <td>0.063140</td>\n",
       "    </tr>\n",
       "    <tr>\n",
       "      <th>10730</th>\n",
       "      <td>Neighborhood_Edwards Exterior 1st_CemntBd</td>\n",
       "      <td>-0.049106</td>\n",
       "    </tr>\n",
       "    <tr>\n",
       "      <th>12482</th>\n",
       "      <td>Condition 1_Feedr Exterior 1st_Stucco</td>\n",
       "      <td>-0.048912</td>\n",
       "    </tr>\n",
       "    <tr>\n",
       "      <th>884</th>\n",
       "      <td>Utilities Year Built</td>\n",
       "      <td>0.036880</td>\n",
       "    </tr>\n",
       "    <tr>\n",
       "      <th>882</th>\n",
       "      <td>Utilities Overall Qual</td>\n",
       "      <td>0.033297</td>\n",
       "    </tr>\n",
       "    <tr>\n",
       "      <th>1567</th>\n",
       "      <td>Year Built Year Remod/Add</td>\n",
       "      <td>0.032837</td>\n",
       "    </tr>\n",
       "    <tr>\n",
       "      <th>4615</th>\n",
       "      <td>Gr Liv Area Functional</td>\n",
       "      <td>0.032139</td>\n",
       "    </tr>\n",
       "    <tr>\n",
       "      <th>1227</th>\n",
       "      <td>Overall Qual Year Built</td>\n",
       "      <td>0.023096</td>\n",
       "    </tr>\n",
       "    <tr>\n",
       "      <th>9467</th>\n",
       "      <td>Land Contour_Low Foundation_Slab</td>\n",
       "      <td>-0.021828</td>\n",
       "    </tr>\n",
       "    <tr>\n",
       "      <th>3846</th>\n",
       "      <td>Heating QC Gr Liv Area</td>\n",
       "      <td>0.021581</td>\n",
       "    </tr>\n",
       "    <tr>\n",
       "      <th>1253</th>\n",
       "      <td>Overall Qual Kitchen Qual</td>\n",
       "      <td>0.019046</td>\n",
       "    </tr>\n",
       "    <tr>\n",
       "      <th>3129</th>\n",
       "      <td>BsmtFin SF 1 Condition 1_Norm</td>\n",
       "      <td>0.018500</td>\n",
       "    </tr>\n",
       "    <tr>\n",
       "      <th>2409</th>\n",
       "      <td>Bsmt Qual Total Bsmt SF</td>\n",
       "      <td>0.016880</td>\n",
       "    </tr>\n",
       "    <tr>\n",
       "      <th>6733</th>\n",
       "      <td>Garage Cars Central Air_Y</td>\n",
       "      <td>0.015610</td>\n",
       "    </tr>\n",
       "    <tr>\n",
       "      <th>11057</th>\n",
       "      <td>Neighborhood_IDOTRR Foundation_Slab</td>\n",
       "      <td>-0.015546</td>\n",
       "    </tr>\n",
       "    <tr>\n",
       "      <th>532</th>\n",
       "      <td>Lot Area Lot Shape</td>\n",
       "      <td>0.015328</td>\n",
       "    </tr>\n",
       "    <tr>\n",
       "      <th>7488</th>\n",
       "      <td>Open Porch SF Roof Style_Mansard</td>\n",
       "      <td>-0.015027</td>\n",
       "    </tr>\n",
       "    <tr>\n",
       "      <th>4131</th>\n",
       "      <td>Electrical Heating_Grav</td>\n",
       "      <td>-0.013580</td>\n",
       "    </tr>\n",
       "    <tr>\n",
       "      <th>2791</th>\n",
       "      <td>Bsmt Exposure Neighborhood_IDOTRR</td>\n",
       "      <td>-0.012141</td>\n",
       "    </tr>\n",
       "    <tr>\n",
       "      <th>13554</th>\n",
       "      <td>Bldg Type_TwnhsE Exterior 2nd_Wd Sdng</td>\n",
       "      <td>0.012056</td>\n",
       "    </tr>\n",
       "    <tr>\n",
       "      <th>14217</th>\n",
       "      <td>Roof Style_Hip Sale Type_New</td>\n",
       "      <td>0.011796</td>\n",
       "    </tr>\n",
       "    <tr>\n",
       "      <th>11013</th>\n",
       "      <td>Neighborhood_IDOTRR House Style_1Story</td>\n",
       "      <td>-0.011766</td>\n",
       "    </tr>\n",
       "    <tr>\n",
       "      <th>5943</th>\n",
       "      <td>Functional Street_Pave</td>\n",
       "      <td>0.011645</td>\n",
       "    </tr>\n",
       "    <tr>\n",
       "      <th>2917</th>\n",
       "      <td>BsmtFin Type 1 Garage Qual</td>\n",
       "      <td>0.011186</td>\n",
       "    </tr>\n",
       "    <tr>\n",
       "      <th>574</th>\n",
       "      <td>Lot Area Paved Drive</td>\n",
       "      <td>0.010694</td>\n",
       "    </tr>\n",
       "    <tr>\n",
       "      <th>10728</th>\n",
       "      <td>Neighborhood_Edwards Exterior 1st_BrkComm</td>\n",
       "      <td>-0.009706</td>\n",
       "    </tr>\n",
       "    <tr>\n",
       "      <th>4171</th>\n",
       "      <td>1st Flr SF Paved Drive</td>\n",
       "      <td>0.009509</td>\n",
       "    </tr>\n",
       "    <tr>\n",
       "      <th>529</th>\n",
       "      <td>Lot Frontage Sale Type_Oth</td>\n",
       "      <td>0.008887</td>\n",
       "    </tr>\n",
       "    <tr>\n",
       "      <th>8811</th>\n",
       "      <td>MS Zoning_RM Neighborhood_IDOTRR</td>\n",
       "      <td>0.008725</td>\n",
       "    </tr>\n",
       "    <tr>\n",
       "      <th>2743</th>\n",
       "      <td>Bsmt Exposure Full Bath</td>\n",
       "      <td>0.008625</td>\n",
       "    </tr>\n",
       "    <tr>\n",
       "      <th>439</th>\n",
       "      <td>Lot Frontage Neighborhood_NridgHt</td>\n",
       "      <td>0.008416</td>\n",
       "    </tr>\n",
       "  </tbody>\n",
       "</table>\n",
       "</div>"
      ],
      "text/plain": [
       "                                     Coefficient     Value\n",
       "1416                    Overall Cond Gr Liv Area  0.063140\n",
       "10730  Neighborhood_Edwards Exterior 1st_CemntBd -0.049106\n",
       "12482      Condition 1_Feedr Exterior 1st_Stucco -0.048912\n",
       "884                         Utilities Year Built  0.036880\n",
       "882                       Utilities Overall Qual  0.033297\n",
       "1567                   Year Built Year Remod/Add  0.032837\n",
       "4615                      Gr Liv Area Functional  0.032139\n",
       "1227                     Overall Qual Year Built  0.023096\n",
       "9467            Land Contour_Low Foundation_Slab -0.021828\n",
       "3846                      Heating QC Gr Liv Area  0.021581\n",
       "1253                   Overall Qual Kitchen Qual  0.019046\n",
       "3129               BsmtFin SF 1 Condition 1_Norm  0.018500\n",
       "2409                     Bsmt Qual Total Bsmt SF  0.016880\n",
       "6733                   Garage Cars Central Air_Y  0.015610\n",
       "11057        Neighborhood_IDOTRR Foundation_Slab -0.015546\n",
       "532                           Lot Area Lot Shape  0.015328\n",
       "7488            Open Porch SF Roof Style_Mansard -0.015027\n",
       "4131                     Electrical Heating_Grav -0.013580\n",
       "2791           Bsmt Exposure Neighborhood_IDOTRR -0.012141\n",
       "13554      Bldg Type_TwnhsE Exterior 2nd_Wd Sdng  0.012056\n",
       "14217               Roof Style_Hip Sale Type_New  0.011796\n",
       "11013     Neighborhood_IDOTRR House Style_1Story -0.011766\n",
       "5943                      Functional Street_Pave  0.011645\n",
       "2917                  BsmtFin Type 1 Garage Qual  0.011186\n",
       "574                         Lot Area Paved Drive  0.010694\n",
       "10728  Neighborhood_Edwards Exterior 1st_BrkComm -0.009706\n",
       "4171                      1st Flr SF Paved Drive  0.009509\n",
       "529                   Lot Frontage Sale Type_Oth  0.008887\n",
       "8811            MS Zoning_RM Neighborhood_IDOTRR  0.008725\n",
       "2743                     Bsmt Exposure Full Bath  0.008625\n",
       "439            Lot Frontage Neighborhood_NridgHt  0.008416"
      ]
     },
     "execution_count": 155,
     "metadata": {},
     "output_type": "execute_result"
    }
   ],
   "source": [
    "coef_df = pd.DataFrame({\n",
    "    'Coefficient': pipe.named_steps['poly'].get_feature_names(X.columns),\n",
    "    'Value':  pipe.named_steps['lcv'].coef_\n",
    "})\n",
    "coef_df['abs'] = coef_df['Value'].map(lambda x: abs(x))\n",
    "coef_df.sort_values(by='abs', ascending=False).drop('abs', axis=1)[:31]"
   ]
  },
  {
   "cell_type": "markdown",
   "metadata": {},
   "source": [
    "The first thing I notice is that every variable in this list is an interaction term. Another thing I notice is that, as I suspected, the interaction between `Year Built` and `Year Remod/Add` has a relatively high predictive value.\n",
    "\n",
    "It does not surprise me that the interaction between `Overall Qual` and `Gr Liv Area` has the highest coefficient. It makes logical sense that the overall quality of a house and the total above-ground living area in square feet would have a quite large effect on the price of that house.\n",
    "\n",
    "For the sake of memory and time, I do not want to include every categorical dummy variable in my final model, so I will use these coefficients as a way to choose which ones to include. I absolutely want to include the `Neighborhood` column because the neighborhood in which a house is located will undoubtedly greatly affect its price. I also notice a high number of coefficients with `Exterior 1st`, `Condition_1`, `Foundation`, and `SaleType`, so I will one-hot encode and include these variables in my final model.\n",
    "\n",
    "#### Click [here](Project-2-Ames-Housing-Data.ipynb) to view the next notebook, where I run my final model."
   ]
  },
  {
   "cell_type": "markdown",
   "metadata": {},
   "source": [
    "____"
   ]
  }
 ],
 "metadata": {
  "kernelspec": {
   "display_name": "Python 3",
   "language": "python",
   "name": "python3"
  },
  "language_info": {
   "codemirror_mode": {
    "name": "ipython",
    "version": 3
   },
   "file_extension": ".py",
   "mimetype": "text/x-python",
   "name": "python",
   "nbconvert_exporter": "python",
   "pygments_lexer": "ipython3",
   "version": "3.6.5"
  }
 },
 "nbformat": 4,
 "nbformat_minor": 2
}
